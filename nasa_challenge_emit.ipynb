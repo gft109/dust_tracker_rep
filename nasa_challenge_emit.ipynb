{
 "cells": [
  {
   "cell_type": "code",
   "execution_count": null,
   "metadata": {},
   "outputs": [],
   "source": [
    "import earthaccess\n",
    "import os\n",
    "from osgeo import gdal\n",
    "import numpy as np\n",
    "import math\n",
    "import rasterio as rio\n",
    "import xarray as xr\n",
    "import holoviews as hv\n",
    "import hvplot.xarray\n",
    "import netCDF4 as nc\n",
    "import emit_tools\n",
    "import hvplot.pandas\n",
    "import pandas as pd"
   ]
  },
  {
   "cell_type": "code",
   "execution_count": null,
   "metadata": {},
   "outputs": [],
   "source": [
    "earthaccess.login(persist=True)"
   ]
  },
  {
   "cell_type": "code",
   "execution_count": null,
   "metadata": {},
   "outputs": [],
   "source": [
    "fp = 'EMIT_L2A_RFL_001_20230801T122133_2321308_041.nc'\n",
    "fp_mask = 'EMIT_L2A_MASK_001_20230801T122133_2321308_041.nc'"
   ]
  },
  {
   "cell_type": "code",
   "execution_count": null,
   "metadata": {},
   "outputs": [],
   "source": [
    "mask_parameters_ds = xr.open_dataset(fp_mask,engine = 'h5netcdf', group='sensor_band_parameters')\n",
    "mask_key = mask_parameters_ds['mask_bands'].to_dataframe()\n",
    "mask_key"
   ]
  },
  {
   "cell_type": "code",
   "execution_count": null,
   "metadata": {},
   "outputs": [],
   "source": [
    "from emit_tools import emit_xarray"
   ]
  },
  {
   "cell_type": "code",
   "execution_count": null,
   "metadata": {},
   "outputs": [],
   "source": [
    "ds_geo = emit_xarray(fp, ortho=True)\n",
    "ds_geo"
   ]
  },
  {
   "cell_type": "code",
   "execution_count": null,
   "metadata": {},
   "outputs": [],
   "source": [
    "ds_geo.sel(wavelengths=2100, method='nearest').hvplot.image(cmap='viridis', frame_width=500, geo=True, tiles='EsriImagery').opts(\n",
    "    xlabel=f'{ds_geo.longitude.long_name} ({ds_geo.longitude.units})', ylabel=f'{ds_geo.latitude.long_name} ({ds_geo.latitude.units})')"
   ]
  },
  {
   "cell_type": "code",
   "execution_count": null,
   "metadata": {},
   "outputs": [],
   "source": [
    "point = ds_geo.sel(longitude=4.33,latitude=36.65,method='nearest')\n",
    "point.hvplot.line(y='reflectance',x='wavelengths', color='black', frame_width=400).opts(\n",
    "    title = f'Latitude = {point.latitude.values.round(3)}, Longitude = {point.longitude.values.round(3)}')"
   ]
  },
  {
   "cell_type": "code",
   "execution_count": null,
   "metadata": {},
   "outputs": [],
   "source": [
    "mask_parameters_ds = xr.open_dataset(fp_mask,engine = 'h5netcdf', group='sensor_band_parameters')\n",
    "mask_parameters_ds"
   ]
  },
  {
   "cell_type": "code",
   "execution_count": null,
   "metadata": {},
   "outputs": [],
   "source": [
    "mask_key = mask_parameters_ds['mask_bands'].to_dataframe()"
   ]
  },
  {
   "cell_type": "code",
   "execution_count": null,
   "metadata": {},
   "outputs": [],
   "source": [
    "from matplotlib import pyplot as plt\n",
    "import matplotlib.gridspec as gridspec\n",
    "fig = plt.figure(figsize=(20,50))\n",
    "gs = gridspec.GridSpec(ncols=3, nrows=len(mask_key), figure=fig)\n",
    "\n",
    "ds = emit_tools.emit_xarray(fp, ortho = False)\n",
    "mask_ds = emit_tools.emit_xarray(fp_mask, ortho=False)\n",
    "\n",
    "rgb_inds = np.array([np.nanargmin(abs(ds['wavelengths'].values - x)) for x in [650, 560, 470]])\n",
    "rgb = ds['reflectance'].values[:,:,rgb_inds] # subset RGB\n",
    "rgb[rgb < 0] = np.nan\n",
    "rgb -= np.nanpercentile(rgb,2,axis=(0,1))[np.newaxis,np.newaxis,:] # scale from 2-95 %\n",
    "rgb /= np.nanpercentile(rgb,95,axis=(0,1))[np.newaxis,np.newaxis,:]\n",
    "\n",
    "for _n in range(int(len(mask_key)/2)):\n",
    "    ax = fig.add_subplot(gs[_n, 0])\n",
    "    plt.imshow(rgb);\n",
    "    plt.axis('off')\n",
    "    plt.title('RGB')\n",
    "    \n",
    "    ax = fig.add_subplot(gs[_n, 1])\n",
    "    md = mask_ds['mask'].values[...,_n]\n",
    "    md[np.isnan(rgb[...,0])] = np.nan\n",
    "    plt.imshow(md);\n",
    "    plt.axis('off')\n",
    "    plt.title(mask_key['mask_bands'][_n])\n",
    "    \n",
    "    ax = fig.add_subplot(gs[_n, 2])\n",
    "    md = mask_ds['mask'].values[...,_n+int(len(mask_key)/2)]\n",
    "    md[np.isnan(rgb[...,0])] = np.nan\n",
    "    plt.imshow(md);\n",
    "    plt.axis('off')\n",
    "    plt.title(mask_key['mask_bands'][_n+int(len(mask_key)/2)])"
   ]
  },
  {
   "cell_type": "code",
   "execution_count": null,
   "metadata": {},
   "outputs": [],
   "source": [
    "flags = [0,1,3,4]\n",
    "mask = emit_tools.quality_mask(fp_mask,flags)\n",
    "fig = plt.figure(figsize=(15,15))\n",
    "gs = gridspec.GridSpec(ncols=2, nrows=2, figure=fig)\n",
    "\n",
    "ax = fig.add_subplot(gs[0, 0])\n",
    "plt.imshow(rgb)\n",
    "\n",
    "ax = fig.add_subplot(gs[0, 1])\n",
    "plt.imshow(mask)\n",
    "\n",
    "ax = fig.add_subplot(gs[1, :])\n",
    "plt.plot(ds['wavelengths'],ds['reflectance'].values[1200,1200,:])\n",
    "plt.xlabel('Wavelengths [nm]')\n",
    "plt.ylabel('Reflectance')"
   ]
  },
  {
   "cell_type": "code",
   "execution_count": null,
   "metadata": {},
   "outputs": [],
   "source": [
    "ds_geo.sel(wavelengths=2100, method='nearest').hvplot.image(cmap='viridis', aspect = 'equal', frame_width=500)"
   ]
  }
 ],
 "metadata": {
  "language_info": {
   "name": "python"
  }
 },
 "nbformat": 4,
 "nbformat_minor": 2
}
